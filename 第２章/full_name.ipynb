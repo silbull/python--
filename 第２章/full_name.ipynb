{
 "cells": [
  {
   "cell_type": "code",
   "execution_count": 1,
   "metadata": {},
   "outputs": [
    {
     "name": "stdout",
     "output_type": "stream",
     "text": [
      "ada lovelace\n"
     ]
    }
   ],
   "source": [
    "#f-strings\n",
    "first_name = \"ada\"\n",
    "last_name = \"lovelace\"\n",
    "full_name = f\"{first_name} {last_name}\"\n",
    "print(full_name)"
   ]
  },
  {
   "cell_type": "code",
   "execution_count": 2,
   "metadata": {},
   "outputs": [
    {
     "name": "stdout",
     "output_type": "stream",
     "text": [
      "こんにちはAda Lovelace!\n"
     ]
    }
   ],
   "source": [
    "first_name = \"ada\"\n",
    "last_name = \"lovelace\"\n",
    "full_name = f\"{first_name} {last_name}\"\n",
    "print(f\"こんにちは{full_name.title()}!\") #title()メソッド 各単語の先頭を大文字にする"
   ]
  },
  {
   "cell_type": "code",
   "execution_count": 4,
   "metadata": {},
   "outputs": [
    {
     "name": "stdout",
     "output_type": "stream",
     "text": [
      " python\n",
      "python is English\n",
      "pythonis English\n"
     ]
    }
   ],
   "source": [
    "#ユーザが入力した文字列をプログラムに保存する前にきれいにする処理としてよく使われる\n",
    "favorite_language = \" python \"\n",
    "print(favorite_language.rstrip()) #右の空白を削除\n",
    "print(f\"{favorite_language.lstrip()}is English\") #左の空白を削除\n",
    "print(f\"{favorite_language.strip()}is English\") #左右の空白を削除"
   ]
  },
  {
   "cell_type": "code",
   "execution_count": 5,
   "metadata": {},
   "outputs": [
    {
     "name": "stdout",
     "output_type": "stream",
     "text": [
      "こんにちは由梨、今日はPythonを学びますか?\n"
     ]
    }
   ],
   "source": [
    "#演習2-3\n",
    "name = \"由梨\"\n",
    "print(f\"こんにちは{name}、今日はPythonを学びますか?\")\n"
   ]
  },
  {
   "cell_type": "code",
   "execution_count": 7,
   "metadata": {},
   "outputs": [
    {
     "name": "stdout",
     "output_type": "stream",
     "text": [
      "ELIZABETH OLSEN\n",
      "elizabeth olsen\n",
      "Elizabeth Olsen\n"
     ]
    }
   ],
   "source": [
    "#演習2-4\n",
    "name = \"elizabeth Olsen\"\n",
    "print(name.upper()) #全部大文字\n",
    "print(name.lower()) #全部小文字\n",
    "print(name.title()) #単語の頭文字だけ大文字"
   ]
  },
  {
   "cell_type": "code",
   "execution_count": 9,
   "metadata": {},
   "outputs": [
    {
     "name": "stdout",
     "output_type": "stream",
     "text": [
      "ロバート・ダウニーjrは、\"Remember that just because you hit bottom doesn’t mean you have to stay there.\"、つまり「どん底であってもそこにとどまる必要はない」といった。\n"
     ]
    }
   ],
   "source": [
    "#2-5,''' '''や\"\"、''を使いこなして、文中の'や\"\"とひっかからないようにする\n",
    "name =\"ロバート・ダウニーjr\"\n",
    "message = f'''{name}は、\"Remember that just because you hit bottom doesn’t mean you have to stay there.\"、つまり「どん底であってもそこにとどまる必要はない」といった。'''\n",
    "print(message)\n"
   ]
  },
  {
   "cell_type": "code",
   "execution_count": 13,
   "metadata": {},
   "outputs": [
    {
     "name": "stdout",
     "output_type": "stream",
     "text": [
      " ロバート・ダウニーjr\n",
      "\tクリス・エヴァンスはキャプテン・アメリカの役でマーベルシリーズに出演していた\n",
      "ロバート・ダウニーjr\n",
      "\tクリス・エヴァンスはキャプテン・アメリカの役でマーベルシリーズに出演していた\n",
      "ロバート・ダウニーjr\n",
      "\tクリス・エヴァンスはキャプテン・アメリカの役でマーベルシリーズに出演していた\n"
     ]
    }
   ],
   "source": [
    "message = \" ロバート・ダウニーjr\\n\\tクリス・エヴァンスはキャプテン・アメリカの役でマーベルシリーズに出演していた\"\n",
    "print(message)\n",
    "print(message.lstrip())\n",
    "print(message.strip())\n",
    "\n"
   ]
  },
  {
   "cell_type": "code",
   "execution_count": null,
   "metadata": {},
   "outputs": [],
   "source": []
  }
 ],
 "metadata": {
  "kernelspec": {
   "display_name": "Python 3.9.13 64-bit",
   "language": "python",
   "name": "python3"
  },
  "language_info": {
   "codemirror_mode": {
    "name": "ipython",
    "version": 3
   },
   "file_extension": ".py",
   "mimetype": "text/x-python",
   "name": "python",
   "nbconvert_exporter": "python",
   "pygments_lexer": "ipython3",
   "version": "3.9.13"
  },
  "orig_nbformat": 4,
  "vscode": {
   "interpreter": {
    "hash": "aee8b7b246df8f9039afb4144a1f6fd8d2ca17a180786b69acc140d282b71a49"
   }
  }
 },
 "nbformat": 4,
 "nbformat_minor": 2
}
