{
 "cells": [
  {
   "cell_type": "code",
   "execution_count": 3,
   "metadata": {},
   "outputs": [
    {
     "name": "stdout",
     "output_type": "stream",
     "text": [
      "['Robert Downey Jr', 'Tom Holland', 'Christopher Evans', 'Scarlett Johansson']\n",
      "Robert Downey Jr\n",
      "私の一番好きな俳優は、Robert Downey Jrです\n"
     ]
    }
   ],
   "source": [
    "bicycles = ['Robert Downey Jr', 'Tom Holland', 'Christopher Evans', 'Scarlett Johansson']\n",
    "print(bicycles)\n",
    "print(bicycles[0])\n",
    "print(f\"私の一番好きな俳優は、{bicycles[0]}です\")"
   ]
  },
  {
   "cell_type": "code",
   "execution_count": 4,
   "metadata": {},
   "outputs": [
    {
     "name": "stdout",
     "output_type": "stream",
     "text": [
      "['Honda', 'yamada', 'Suzuki']\n",
      "['ducati', 'yamada', 'Suzuki']\n"
     ]
    }
   ],
   "source": [
    "#変更\n",
    "motorcycles=[\"Honda\", \"yamada\", \"Suzuki\"]\n",
    "print(motorcycles)\n",
    "motorcycles[0] = \"ducati\"\n",
    "print(motorcycles)"
   ]
  },
  {
   "cell_type": "code",
   "execution_count": 7,
   "metadata": {},
   "outputs": [
    {
     "name": "stdout",
     "output_type": "stream",
     "text": [
      "['honda', 'yamaha', 'suzuki', 'ducati']\n",
      "['honda', 'suzuki', 'ducati']\n"
     ]
    }
   ],
   "source": [
    "#リストの削除\n",
    "motorcycles =[\"honda\", \"yamaha\", \"suzuki\"]\n",
    "motorcycles.append(\"ducati\")\n",
    "print(motorcycles)\n",
    "del motorcycles[1] \n",
    "print(motorcycles)\n",
    "\n"
   ]
  },
  {
   "cell_type": "code",
   "execution_count": 10,
   "metadata": {},
   "outputs": [
    {
     "name": "stdout",
     "output_type": "stream",
     "text": [
      "['honda', 'yamaha']\n",
      "suzuki\n",
      "最近手に入れたバイクは、suzukiです\n"
     ]
    }
   ],
   "source": [
    "#pop()メソッド\n",
    "motorcycles =[\"honda\", \"yamaha\", \"suzuki\"]\n",
    "popped_motorcycle = motorcycles.pop() #popメソッドは抜いた値を変数として使える\n",
    "print(motorcycles)\n",
    "print(popped_motorcycle)\n",
    "print(f\"最近手に入れたバイクは、{popped_motorcycle}です\")"
   ]
  },
  {
   "cell_type": "code",
   "execution_count": 12,
   "metadata": {},
   "outputs": [
    {
     "name": "stdout",
     "output_type": "stream",
     "text": [
      "私が最初に買ったバイクはhondaです\n"
     ]
    }
   ],
   "source": [
    "#pop()メソッドは場所を指定できる\n",
    "motorcycles =[\"honda\", \"yamaha\", \"suzuki\"]\n",
    "popped_motorcycle = motorcycles.pop(0)\n",
    "print(f\"私が最初に買ったバイクは{popped_motorcycle}です\")"
   ]
  },
  {
   "cell_type": "code",
   "execution_count": 29,
   "metadata": {},
   "outputs": [
    {
     "name": "stdout",
     "output_type": "stream",
     "text": [
      "['honda', 'yamaha', 'suzuki']\n",
      "['honda', 'yamaha', 'suzuki', 'ducati']\n"
     ]
    }
   ],
   "source": [
    "#remove(名前)でリストの特定の名前を削除できる、リストがでかいときに特定の値を削除できるから便利\n",
    "motorcycles =[\"honda\", \"yamaha\", \"suzuki\", \"ducati\"]\n",
    "motorcycles.remove(\"ducati\")\n",
    "print(motorcycles)\n",
    "motorcycles.insert(3, \"ducati\") #insertは挿入場所のインデックスと要素の値を引数にとる\n",
    "print(motorcycles)"
   ]
  },
  {
   "cell_type": "code",
   "execution_count": 16,
   "metadata": {},
   "outputs": [
    {
     "name": "stdout",
     "output_type": "stream",
     "text": [
      "エリザベス・オルセン様、夕食に招待いたします\n",
      "\n",
      "赤井秀一様、夕食に招待いたします\n",
      "\n",
      "ロバート・ダウニーjr様、夕食に招待いたします\n",
      "\n"
     ]
    }
   ],
   "source": [
    "#演習3-4\n",
    "invitation_list = [\"エリザベス・オルセン\", \"赤井秀一\", \"ロバート・ダウニーjr\"]\n",
    "for i in range(3):\n",
    "    print(f\"{invitation_list[i]}様、夕食に招待いたします\\n\")"
   ]
  },
  {
   "cell_type": "code",
   "execution_count": 22,
   "metadata": {},
   "outputs": [
    {
     "name": "stdout",
     "output_type": "stream",
     "text": [
      "[1, 2, 3]\n",
      "d\n",
      "c\n",
      "b\n",
      "['a', 'e', 'f', 'g']\n"
     ]
    }
   ],
   "source": [
    "invitation_list = [\"a\", \"b\", \"c\", \"d\", \"e\", \"f\", \"g\"]\n",
    "# b, c, dを削除したい\n",
    "pop_list = [1, 2, 3]\n",
    "print(pop_list)\n",
    "for i in sorted(pop_list, reverse= True):\n",
    "    print(invitation_list.pop(i))\n",
    "print(invitation_list)"
   ]
  },
  {
   "cell_type": "code",
   "execution_count": 32,
   "metadata": {},
   "outputs": [
    {
     "name": "stdout",
     "output_type": "stream",
     "text": [
      "None\n",
      "['a', 'c', 'd', 'f', 'f', 'g', 'o']\n",
      "None\n",
      "['o', 'g', 'f', 'f', 'd', 'c', 'a']\n",
      "['a', 'c', 'd', 'f', 'f', 'g', 'o']\n",
      "['o', 'g', 'f', 'f', 'd', 'c', 'a']\n"
     ]
    }
   ],
   "source": [
    "#sortとsorted\n",
    "#sortはメソッド,sortedは組み込み関数\n",
    "invitation_list = [\"a\", \"c\", \"f\", \"d\", \"o\", \"f\", \"g\"]\n",
    "print(invitation_list.sort()) #sortはsortするだけで実際のリストは生成しない\n",
    "print(invitation_list)\n",
    "print(invitation_list.sort(reverse = True))\n",
    "print(invitation_list)\n",
    "print(sorted(invitation_list))\n",
    "print(sorted(invitation_list, reverse = True))\n",
    "\n"
   ]
  },
  {
   "cell_type": "code",
   "execution_count": 35,
   "metadata": {},
   "outputs": [
    {
     "name": "stdout",
     "output_type": "stream",
     "text": [
      "['Junya', 'Reiya', 'Ibuki', 'Ryusei']\n",
      "Ryusei\n"
     ]
    }
   ],
   "source": [
    "#reverse()メソッド, len()関数\n",
    "friends=[\"Ryusei\", \"Ibuki\", \"Reiya\", \"Junya\"]\n",
    "len(friends) #printはいらない、値を返す\n",
    "friends.reverse()\n",
    "print(friends)\n",
    "print(friends[-1]) #indexに-1を指定すると最後の値を返す"
   ]
  },
  {
   "cell_type": "code",
   "execution_count": null,
   "metadata": {},
   "outputs": [],
   "source": []
  }
 ],
 "metadata": {
  "kernelspec": {
   "display_name": "Python 3.9.13 64-bit",
   "language": "python",
   "name": "python3"
  },
  "language_info": {
   "codemirror_mode": {
    "name": "ipython",
    "version": 3
   },
   "file_extension": ".py",
   "mimetype": "text/x-python",
   "name": "python",
   "nbconvert_exporter": "python",
   "pygments_lexer": "ipython3",
   "version": "3.9.13"
  },
  "orig_nbformat": 4,
  "vscode": {
   "interpreter": {
    "hash": "aee8b7b246df8f9039afb4144a1f6fd8d2ca17a180786b69acc140d282b71a49"
   }
  }
 },
 "nbformat": 4,
 "nbformat_minor": 2
}
